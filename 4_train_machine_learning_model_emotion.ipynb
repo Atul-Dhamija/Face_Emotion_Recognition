{
  "nbformat": 4,
  "nbformat_minor": 0,
  "metadata": {
    "kernelspec": {
      "display_name": "Python 3 (ipykernel)",
      "language": "python",
      "name": "python3"
    },
    "language_info": {
      "codemirror_mode": {
        "name": "ipython",
        "version": 3
      },
      "file_extension": ".py",
      "mimetype": "text/x-python",
      "name": "python",
      "nbconvert_exporter": "python",
      "pygments_lexer": "ipython3",
      "version": "3.9.5"
    },
    "colab": {
      "name": "4_train_machine_learning_model-emotion.ipynb",
      "provenance": []
    }
  },
  "cells": [
    {
      "cell_type": "code",
      "metadata": {
        "id": "tBsxbIkB7xD1"
      },
      "source": [
        "import numpy as np\n",
        "import pandas as pd\n",
        "import pickle"
      ],
      "execution_count": null,
      "outputs": []
    },
    {
      "cell_type": "markdown",
      "metadata": {
        "id": "OqNq_6I47xD6"
      },
      "source": [
        "# 1. Data\n",
        "- Load data from pickle file\n",
        "- split the data into independent and dependent\n",
        "- split to train and test set"
      ]
    },
    {
      "cell_type": "code",
      "metadata": {
        "id": "aZH2rQwW7xD6"
      },
      "source": [
        "data = pickle.load(open('data_face_features_emotion.pickle',mode='rb'))"
      ],
      "execution_count": null,
      "outputs": []
    },
    {
      "cell_type": "code",
      "metadata": {
        "id": "hMpBor1a7xD7"
      },
      "source": [
        "X = np.array(data['data']) # indendepent variable\n",
        "y = np.array(data['label']) # dependent variable"
      ],
      "execution_count": null,
      "outputs": []
    },
    {
      "cell_type": "code",
      "metadata": {
        "id": "4AiSPUbM7xD8",
        "outputId": "f63da7a8-4523-4e13-f1cf-a2eaf51256d5"
      },
      "source": [
        "X.shape , y.shape"
      ],
      "execution_count": null,
      "outputs": [
        {
          "output_type": "execute_result",
          "data": {
            "text/plain": [
              "((1652, 1, 128), (1652,))"
            ]
          },
          "metadata": {
            "tags": []
          },
          "execution_count": 5
        }
      ]
    },
    {
      "cell_type": "code",
      "metadata": {
        "id": "LK7c_Xzz7xD_",
        "outputId": "fd90a52c-02f0-442f-cb9d-6d7bb7bb1120"
      },
      "source": [
        "X = X.reshape(-1,128)\n",
        "X.shape"
      ],
      "execution_count": null,
      "outputs": [
        {
          "output_type": "execute_result",
          "data": {
            "text/plain": [
              "(1652, 128)"
            ]
          },
          "metadata": {
            "tags": []
          },
          "execution_count": 6
        }
      ]
    },
    {
      "cell_type": "code",
      "metadata": {
        "id": "tvn17wnA7xD_"
      },
      "source": [
        "# split the data into train and test\n",
        "from sklearn.model_selection import train_test_split"
      ],
      "execution_count": null,
      "outputs": []
    },
    {
      "cell_type": "code",
      "metadata": {
        "id": "XvK51qAP7xEA"
      },
      "source": [
        "x_train,x_test,y_train,y_test = train_test_split(X,y,train_size=0.8,random_state=0)"
      ],
      "execution_count": null,
      "outputs": []
    },
    {
      "cell_type": "code",
      "metadata": {
        "id": "7JOsZLeN7xEB",
        "outputId": "22d8ce50-4562-4f57-80cd-1e37a6613093"
      },
      "source": [
        "x_train.shape, x_test.shape, y_train.shape, y_test.shape"
      ],
      "execution_count": null,
      "outputs": [
        {
          "output_type": "execute_result",
          "data": {
            "text/plain": [
              "((1321, 128), (331, 128), (1321,), (331,))"
            ]
          },
          "metadata": {
            "tags": []
          },
          "execution_count": 9
        }
      ]
    },
    {
      "cell_type": "markdown",
      "metadata": {
        "id": "odX6QXCY7xEC"
      },
      "source": [
        "# 2. Train Machine Learning"
      ]
    },
    {
      "cell_type": "code",
      "metadata": {
        "id": "d1cdj5hY7xED"
      },
      "source": [
        "from sklearn.linear_model import LogisticRegression\n",
        "from sklearn.svm import SVC\n",
        "from sklearn.ensemble import RandomForestClassifier\n",
        "from sklearn.ensemble import VotingClassifier\n",
        "from sklearn.metrics import classification_report, accuracy_score, f1_score"
      ],
      "execution_count": null,
      "outputs": []
    },
    {
      "cell_type": "markdown",
      "metadata": {
        "id": "9ghwnGs77xEF"
      },
      "source": [
        "### Logistic Regression"
      ]
    },
    {
      "cell_type": "code",
      "metadata": {
        "id": "ol3umiKG7xEH",
        "outputId": "6d68b5aa-24ba-4b0a-e265-92fbe0e0ecc5"
      },
      "source": [
        "model_logistic = LogisticRegression()\n",
        "model_logistic.fit(x_train,y_train) # training logistic regression"
      ],
      "execution_count": null,
      "outputs": [
        {
          "output_type": "execute_result",
          "data": {
            "text/plain": [
              "LogisticRegression()"
            ]
          },
          "metadata": {
            "tags": []
          },
          "execution_count": 11
        }
      ]
    },
    {
      "cell_type": "code",
      "metadata": {
        "id": "4hSSi7T57xEJ"
      },
      "source": [
        "def get_report(model, x_train,y_train,x_test,y_test):\n",
        "    y_pred_train = model.predict(x_train)\n",
        "    y_pred_test = model.predict(x_test)\n",
        "\n",
        "    # accuracy score\n",
        "    acc_train = accuracy_score(y_train,y_pred_train)\n",
        "    acc_test = accuracy_score(y_test,y_pred_test)\n",
        "\n",
        "    # f1 score\n",
        "    f1_score_train = f1_score(y_train,y_pred_train,average='macro')\n",
        "    f1_score_test = f1_score(y_test,y_pred_test,average='macro')\n",
        "\n",
        "\n",
        "    print('Accuracy Train = %0.2f'%acc_train)\n",
        "    print('Accuracy Test = %0.2f'%acc_test)\n",
        "    print('F1 Score Train = %0.2f'%f1_score_train)\n",
        "    print('F1 Score Test = %0.2f'%f1_score_test)"
      ],
      "execution_count": null,
      "outputs": []
    },
    {
      "cell_type": "code",
      "metadata": {
        "id": "xLdj-Wt87xEJ",
        "outputId": "f8f97441-008f-4c27-cf67-bea5662cb8a0"
      },
      "source": [
        "get_report(model_logistic,x_train,y_train,x_test,y_test)"
      ],
      "execution_count": null,
      "outputs": [
        {
          "output_type": "stream",
          "text": [
            "Accuracy Train = 0.74\n",
            "Accuracy Test = 0.69\n",
            "F1 Score Train = 0.74\n",
            "F1 Score Test = 0.69\n"
          ],
          "name": "stdout"
        }
      ]
    },
    {
      "cell_type": "markdown",
      "metadata": {
        "id": "-mCqJWnZ7xEK"
      },
      "source": [
        "### Support Vector Machines"
      ]
    },
    {
      "cell_type": "code",
      "metadata": {
        "id": "4Fi8V9n17xEK",
        "outputId": "81cef135-6989-460f-b332-9ace90c5a4f5"
      },
      "source": [
        "model_svc = SVC(probability=True)\n",
        "model_svc.fit(x_train,y_train)"
      ],
      "execution_count": null,
      "outputs": [
        {
          "output_type": "execute_result",
          "data": {
            "text/plain": [
              "SVC(probability=True)"
            ]
          },
          "metadata": {
            "tags": []
          },
          "execution_count": 20
        }
      ]
    },
    {
      "cell_type": "code",
      "metadata": {
        "id": "xkEjHQHH7xEL",
        "outputId": "39263d21-73d3-4de2-9168-f00696415830"
      },
      "source": [
        "get_report(model_svc,x_train,y_train,x_test,y_test)"
      ],
      "execution_count": null,
      "outputs": [
        {
          "output_type": "stream",
          "text": [
            "Accuracy Train = 0.84\n",
            "Accuracy Test = 0.71\n",
            "F1 Score Train = 0.84\n",
            "F1 Score Test = 0.72\n"
          ],
          "name": "stdout"
        }
      ]
    },
    {
      "cell_type": "markdown",
      "metadata": {
        "id": "JlGuNAz77xEM"
      },
      "source": [
        "### Random Forest"
      ]
    },
    {
      "cell_type": "code",
      "metadata": {
        "id": "aforvvYN7xEN",
        "outputId": "ddbbeb46-bc3b-4631-f77d-45dbeea11e35"
      },
      "source": [
        "model_rf = RandomForestClassifier(n_estimators=10,)\n",
        "model_rf.fit(x_train,y_train)"
      ],
      "execution_count": null,
      "outputs": [
        {
          "output_type": "execute_result",
          "data": {
            "text/plain": [
              "RandomForestClassifier(n_estimators=10)"
            ]
          },
          "metadata": {
            "tags": []
          },
          "execution_count": 24
        }
      ]
    },
    {
      "cell_type": "code",
      "metadata": {
        "id": "HvQ-m0uU7xEN",
        "outputId": "729f5b6e-1862-491f-8a66-2678e09a0267"
      },
      "source": [
        "get_report(model_rf,x_train,y_train,x_test,y_test)"
      ],
      "execution_count": null,
      "outputs": [
        {
          "output_type": "stream",
          "text": [
            "Accuracy Train = 0.99\n",
            "Accuracy Test = 0.56\n",
            "F1 Score Train = 0.99\n",
            "F1 Score Test = 0.54\n"
          ],
          "name": "stdout"
        }
      ]
    },
    {
      "cell_type": "markdown",
      "metadata": {
        "id": "Sqe23bkj7xEN"
      },
      "source": [
        "## Voting Classifier"
      ]
    },
    {
      "cell_type": "code",
      "metadata": {
        "id": "B-pN2unK7xEP"
      },
      "source": [
        "model_voting = VotingClassifier(estimators=[\n",
        "    ('logistic',LogisticRegression()),\n",
        "    ('svm',SVC(probability=True)),\n",
        "    ('rf',RandomForestClassifier())\n",
        "], voting='soft',weights=[2,3,1])"
      ],
      "execution_count": null,
      "outputs": []
    },
    {
      "cell_type": "code",
      "metadata": {
        "id": "-mtRzoSv7xEP",
        "outputId": "553fb056-165a-4218-aa09-4ac344b108f3"
      },
      "source": [
        "model_voting.fit(x_train,y_train)"
      ],
      "execution_count": null,
      "outputs": [
        {
          "output_type": "execute_result",
          "data": {
            "text/plain": [
              "VotingClassifier(estimators=[('logistic', LogisticRegression()),\n",
              "                             ('svm', SVC(probability=True)),\n",
              "                             ('rf', RandomForestClassifier())],\n",
              "                 voting='soft', weights=[2, 3, 1])"
            ]
          },
          "metadata": {
            "tags": []
          },
          "execution_count": 30
        }
      ]
    },
    {
      "cell_type": "code",
      "metadata": {
        "id": "wQr6B6Mh7xEP",
        "outputId": "fe0bde1b-c3f0-4cd4-be13-3a75f9183e07"
      },
      "source": [
        "get_report(model_voting,x_train,y_train,x_test,y_test)"
      ],
      "execution_count": null,
      "outputs": [
        {
          "output_type": "stream",
          "text": [
            "Accuracy Train = 0.88\n",
            "Accuracy Test = 0.70\n",
            "F1 Score Train = 0.87\n",
            "F1 Score Test = 0.70\n"
          ],
          "name": "stdout"
        }
      ]
    },
    {
      "cell_type": "markdown",
      "metadata": {
        "id": "ylRlcoI17xEQ"
      },
      "source": [
        "# 3. Parameter Tuning"
      ]
    },
    {
      "cell_type": "code",
      "metadata": {
        "id": "uI1JiaW67xER"
      },
      "source": [
        "from sklearn.model_selection import GridSearchCV"
      ],
      "execution_count": null,
      "outputs": []
    },
    {
      "cell_type": "code",
      "metadata": {
        "id": "x24iQ06E7xER"
      },
      "source": [
        "model_grid = GridSearchCV(model_voting,\n",
        "                         param_grid={\n",
        "                             'svm__C':[3,5,7,10],\n",
        "                             'svm__gamma':[0.1,0.3,0.5],\n",
        "                             'rf__n_estimators':[5,10,20],\n",
        "                             'rf__max_depth':[3,5,7],\n",
        "                             'voting':['soft','hard']\n",
        "                         },scoring='accuracy',cv=3,n_jobs=1,verbose=2)"
      ],
      "execution_count": null,
      "outputs": []
    },
    {
      "cell_type": "code",
      "metadata": {
        "scrolled": true,
        "id": "2Zr1BzOw7xER"
      },
      "source": [
        "model_grid.fit(x_train,y_train)"
      ],
      "execution_count": null,
      "outputs": []
    },
    {
      "cell_type": "code",
      "metadata": {
        "id": "z9JwrcAf7xES"
      },
      "source": [
        "model_best_estimator = model_grid.best_estimator_"
      ],
      "execution_count": null,
      "outputs": []
    },
    {
      "cell_type": "code",
      "metadata": {
        "id": "_QGPcHPw7xES",
        "outputId": "de88ad88-4c99-4275-c694-4063ceee90e2"
      },
      "source": [
        "model_grid.best_score_"
      ],
      "execution_count": null,
      "outputs": [
        {
          "output_type": "execute_result",
          "data": {
            "text/plain": [
              "0.7100683707826566"
            ]
          },
          "metadata": {
            "tags": []
          },
          "execution_count": 43
        }
      ]
    },
    {
      "cell_type": "code",
      "metadata": {
        "id": "I7QbDAew7xES"
      },
      "source": [
        ""
      ],
      "execution_count": null,
      "outputs": []
    },
    {
      "cell_type": "markdown",
      "metadata": {
        "id": "Ow3urSto7xET"
      },
      "source": [
        "# 4. Save Model"
      ]
    },
    {
      "cell_type": "code",
      "metadata": {
        "id": "pqoAhAja7xET"
      },
      "source": [
        "pickle.dump(model_best_estimator,open('./models/machinelearning_face_person_identity.pkl',mode='wb'))"
      ],
      "execution_count": null,
      "outputs": []
    },
    {
      "cell_type": "code",
      "metadata": {
        "id": "G1N3HzjS7xEU"
      },
      "source": [
        ""
      ],
      "execution_count": null,
      "outputs": []
    }
  ]
}